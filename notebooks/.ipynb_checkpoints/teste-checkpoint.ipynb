{
 "cells": [
  {
   "cell_type": "code",
   "execution_count": null,
   "id": "3ea8ad84-6735-4db4-8abb-70f6bbd83c79",
   "metadata": {},
   "outputs": [],
   "source": [
    "import pandas as pd"
   ]
  },
  {
   "cell_type": "code",
   "execution_count": null,
   "id": "27e3bce9-f632-495f-8d6d-f227d871846f",
   "metadata": {},
   "outputs": [],
   "source": [
    "df_amazon = pd.read_csv('../data/Amazon Sale Report.csv')"
   ]
  },
  {
   "cell_type": "code",
   "execution_count": null,
   "id": "85e24a25-39d1-4cbf-8688-411b06127e3f",
   "metadata": {},
   "outputs": [],
   "source": [
    "df_amazon.dtypes\n"
   ]
  },
  {
   "cell_type": "code",
   "execution_count": null,
   "id": "d8ea5334-63c3-4c58-ba49-70a81703c8bf",
   "metadata": {},
   "outputs": [],
   "source": [
    "for i, col in enumerate(df_amazon.columns):\n",
    "    print(i, '->', col)"
   ]
  },
  {
   "cell_type": "code",
   "execution_count": null,
   "id": "59dae1a5-d98b-4819-8016-6036e9c7d112",
   "metadata": {},
   "outputs": [],
   "source": [
    "df_amazon[df_amazon.columns[23]].unique()"
   ]
  }
 ],
 "metadata": {
  "kernelspec": {
   "display_name": "Python 3 (ipykernel)",
   "language": "python",
   "name": "python3"
  },
  "language_info": {
   "codemirror_mode": {
    "name": "ipython",
    "version": 3
   },
   "file_extension": ".py",
   "mimetype": "text/x-python",
   "name": "python",
   "nbconvert_exporter": "python",
   "pygments_lexer": "ipython3",
   "version": "3.11.7"
  }
 },
 "nbformat": 4,
 "nbformat_minor": 5
}
